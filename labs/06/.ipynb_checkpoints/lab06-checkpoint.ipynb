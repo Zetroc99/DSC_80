{
 "cells": [
  {
   "cell_type": "markdown",
   "metadata": {},
   "source": [
    "# DSC 80: Lab 06\n",
    "\n",
    "### Due Date: Tuesday May 11th, 11:59 PM"
   ]
  },
  {
   "cell_type": "markdown",
   "metadata": {},
   "source": [
    "## Instructions\n",
    "Much like in DSC 10, this Jupyter Notebook contains the statements of the problems and provides code and markdown cells to display your answers to the problems. Unlike DSC 10, the notebook is *only* for displaying a readable version of your final answers. The coding work will be developed in an accompanying `lab*.py` file, that will be imported into the current notebook.\n",
    "\n",
    "Labs and programming assignments will be graded in (at most) two ways:\n",
    "1. The functions and classes in the accompanying python file will be tested (a la DSC 20),\n",
    "2. The notebook will be graded (for graphs and free response questions).\n",
    "\n",
    "**Do not change the function names in the `*.py` file**\n",
    "- The functions in the `*.py` file are how your assignment is graded, and they are graded by their name. The dictionary at the end of the file (`GRADED FUNCTIONS`) contains the \"grading list\". The final function in the file allows your doctests to check that all the necessary functions exist.\n",
    "- If you changed something you weren't supposed to, just use git to revert!\n",
    "\n",
    "**Tips for working in the Notebook**:\n",
    "- The notebooks serve to present you the questions and give you a place to present your results for later review.\n",
    "- The notebook on *lab assignments* are not graded (only the `.py` file).\n",
    "- Notebooks for PAs will serve as a final report for the assignment, and contain conclusions and answers to open ended questions that are graded.\n",
    "- The notebook serves as a nice environment for 'pre-development' and experimentation before designing your function in your `.py` file.\n",
    "\n",
    "**Tips for developing in the .py file**:\n",
    "- Do not change the function names in the starter code; grading is done using these function names.\n",
    "- Do not change the docstrings in the functions. These are there to tell you if your work is on the right track!\n",
    "- You are encouraged to write your own additional functions to solve the lab! \n",
    "    - Developing in python usually consists of larger files, with many short functions.\n",
    "    - You may write your other functions in an additional `.py` file that you import in `lab**.py` (much like we do in the notebook).\n",
    "- Always document your code!"
   ]
  },
  {
   "cell_type": "markdown",
   "metadata": {},
   "source": [
    "### Importing code from `lab**.py`\n",
    "\n",
    "* We import our `.py` file that's contained in the same directory as this notebook.\n",
    "* We use the `autoreload` notebook extension to make changes to our `lab**.py` file immediately available in our notebook. Without this extension, we would need to restart the notebook kernel to see any changes to `lab**.py` in the notebook.\n",
    "    - `autoreload` is necessary because, upon import, `lab**.py` is compiled to bytecode (in the directory `__pycache__`). Subsequent imports of `lab**` merely import the existing compiled python."
   ]
  },
  {
   "cell_type": "code",
   "execution_count": 17,
   "metadata": {},
   "outputs": [
    {
     "name": "stdout",
     "output_type": "stream",
     "text": [
      "The autoreload extension is already loaded. To reload it, use:\n",
      "  %reload_ext autoreload\n"
     ]
    }
   ],
   "source": [
    "%load_ext autoreload\n",
    "%autoreload 2"
   ]
  },
  {
   "cell_type": "code",
   "execution_count": 294,
   "metadata": {},
   "outputs": [],
   "source": [
    "import lab06 as lab"
   ]
  },
  {
   "cell_type": "code",
   "execution_count": 295,
   "metadata": {},
   "outputs": [],
   "source": [
    "%matplotlib inline\n",
    "import pandas as pd\n",
    "import numpy as np\n",
    "import matplotlib.pyplot as plt\n",
    "import glob\n",
    "import os\n",
    "import time"
   ]
  },
  {
   "cell_type": "code",
   "execution_count": 296,
   "metadata": {},
   "outputs": [],
   "source": [
    "import requests\n",
    "import bs4\n",
    "import json"
   ]
  },
  {
   "cell_type": "markdown",
   "metadata": {},
   "source": [
    "# Basic HTML tags practice\n",
    "\n",
    "**Question 1**\n",
    "\n",
    "Create a very basic `html` file that satisfies the following properties:\n",
    "\n",
    "1. Has `<head>` and `<body>` tags.\n",
    "2. Has a title\n",
    "3. Inside the body tags:\n",
    "    * At least two headers\n",
    "    * At least three images:\n",
    "        * At least one image must be a local file;\n",
    "        * At least one image must be linked to online source; \n",
    "        * At least one image has to have default text when it cannot be displayed.\n",
    "    * At least three references (hyperlinks) to different web pages;\n",
    "    * At least one table with two columns.\n",
    "    \n",
    "        \n",
    "   \n",
    "4. Save your work as `lab06_1.html` in the same directory as `lab06.py`, make sure it loads in the browser and do not forget to submit it.\n",
    "5. **Do not forget to submit all data files needed to display your page.**\n",
    "\n",
    "**Note:** You can toy with (basic) HTML in the cells of a notebook, using either a \"markdown cell\" or by using the `IPython.display.HTML` function. However, be sure to open your saved file in a browser to be sure the page displays properly!\n",
    "\n",
    "**Note:** If you work within Jupyter Notebook, you can later copy your text into a text editor and save it with the .html extension."
   ]
  },
  {
   "cell_type": "code",
   "execution_count": null,
   "metadata": {},
   "outputs": [],
   "source": []
  },
  {
   "cell_type": "code",
   "execution_count": null,
   "metadata": {},
   "outputs": [],
   "source": []
  },
  {
   "cell_type": "code",
   "execution_count": null,
   "metadata": {},
   "outputs": [],
   "source": []
  },
  {
   "cell_type": "markdown",
   "metadata": {},
   "source": [
    "# Scraping an Online Bookstore\n"
   ]
  },
  {
   "cell_type": "markdown",
   "metadata": {},
   "source": [
    "**Question 2**\n",
    "\n",
    "Browse through the following fake on-line bookstore: http://books.toscrape.com/. This website is meant for toying with scraping.\n",
    "\n",
    "Scrape the website, collecting data on all books that have **at least a four-star rating**, with a price **under £50** and belong to the book categories you want. You should collect the data in a dataframe as below (if you get an encoding error on your prices columns, like you see in the table below, don't worry about it):\n",
    "<img src=\"data/bookdata.png\">\n",
    "\n",
    "\n",
    "Do this using the following steps:\n",
    "1. Create a function `extract_book_links` that takes in the content of a book-listing page (a string of html), and returns a list of urls of book-detail pages that satisfy the requirements on \"*at least* a four-star rating, and prices are *under* £50\". \n",
    "\n",
    "2. Create a function `get_product_info` that takes in the content of a book-detail page (a string of html), a variable `categories` that is a list of book categories you want. If this input book is in the categories you want, returns a dictionary corresponding to a row in the dataframe in the image above (where the keys are the column names and the values are the row values); else, skip this book since this is not the book you want (ie. return None).\n",
    "\n",
    "3. Create a function `scrape_books` of a single variable `k` that scrapes the first `k` pages of the bookstore (as determined by starting at the url above and clicking on the 'next' button),a variable `categories` that is a list of book categories you want, and returns a dataframe of books as the picture above. (Note: make sure the books returned satisfy the requirements set in part 1 about rating and price).\n",
    "\n",
    "\n",
    "*Note:* Your function should take under 180 seconds to run through the entire bookstore.\n",
    "\n",
    "*Note:* Don't worry about type casting (ie changing number of reviews to an int)"
   ]
  },
  {
   "cell_type": "code",
   "execution_count": 21,
   "metadata": {},
   "outputs": [],
   "source": [
    "fp = os.path.join('data', 'products.html')\n",
    "text = open(fp, encoding='utf-8').read()"
   ]
  },
  {
   "cell_type": "code",
   "execution_count": 22,
   "metadata": {},
   "outputs": [],
   "source": [
    "bs = bs4.BeautifulSoup(text)"
   ]
  },
  {
   "cell_type": "code",
   "execution_count": 23,
   "metadata": {},
   "outputs": [
    {
     "data": {
      "text/plain": [
       "['seven-brief-lessons-on-physics_219/index.html',\n",
       " 'scarlet-the-lunar-chronicles-2_218/index.html',\n",
       " 'saga-volume-3-saga-collected-editions-3_216/index.html',\n",
       " 'running-with-scissors_215/index.html',\n",
       " 'rise-of-the-rocket-girls-the-women-who-propelled-us-from-missiles-to-the-moon-to-mars_213/index.html',\n",
       " 'ready-player-one_209/index.html']"
      ]
     },
     "execution_count": 23,
     "metadata": {},
     "output_type": "execute_result"
    }
   ],
   "source": [
    "lab.extract_book_links(text)"
   ]
  },
  {
   "cell_type": "code",
   "execution_count": 24,
   "metadata": {
    "scrolled": false
   },
   "outputs": [],
   "source": [
    "fp = os.path.join('data', 'Frankenstein.html')\n",
    "text = open(fp, encoding='utf-8').read()"
   ]
  },
  {
   "cell_type": "code",
   "execution_count": 25,
   "metadata": {},
   "outputs": [],
   "source": [
    "q2_2 = lab.get_product_info(text,['Default'])"
   ]
  },
  {
   "cell_type": "code",
   "execution_count": 26,
   "metadata": {},
   "outputs": [
    {
     "data": {
      "text/html": [
       "<div>\n",
       "<style scoped>\n",
       "    .dataframe tbody tr th:only-of-type {\n",
       "        vertical-align: middle;\n",
       "    }\n",
       "\n",
       "    .dataframe tbody tr th {\n",
       "        vertical-align: top;\n",
       "    }\n",
       "\n",
       "    .dataframe thead th {\n",
       "        text-align: right;\n",
       "    }\n",
       "</style>\n",
       "<table border=\"1\" class=\"dataframe\">\n",
       "  <thead>\n",
       "    <tr style=\"text-align: right;\">\n",
       "      <th></th>\n",
       "      <th>Availability</th>\n",
       "      <th>Category</th>\n",
       "      <th>Description</th>\n",
       "      <th>Number of reviews</th>\n",
       "      <th>Price (excl. tax)</th>\n",
       "      <th>Price (incl. tax)</th>\n",
       "      <th>Product Type</th>\n",
       "      <th>Rating</th>\n",
       "      <th>Tax</th>\n",
       "      <th>Title</th>\n",
       "      <th>UPC</th>\n",
       "    </tr>\n",
       "  </thead>\n",
       "  <tbody>\n",
       "    <tr>\n",
       "      <th>0</th>\n",
       "      <td>In stock (20 available)</td>\n",
       "      <td>Mystery</td>\n",
       "      <td>WICKED above her hipbone, GIRL across her hear...</td>\n",
       "      <td>0</td>\n",
       "      <td>Â£47.82</td>\n",
       "      <td>Â£47.82</td>\n",
       "      <td>Books</td>\n",
       "      <td>Four</td>\n",
       "      <td>Â£0.00</td>\n",
       "      <td>Sharp Objects</td>\n",
       "      <td>e00eb4fd7b871a48</td>\n",
       "    </tr>\n",
       "    <tr>\n",
       "      <th>1</th>\n",
       "      <td>In stock (19 available)</td>\n",
       "      <td>Romance</td>\n",
       "      <td>A Michelin two-star chef at twenty-eight, Viol...</td>\n",
       "      <td>0</td>\n",
       "      <td>Â£25.27</td>\n",
       "      <td>Â£25.27</td>\n",
       "      <td>Books</td>\n",
       "      <td>Five</td>\n",
       "      <td>Â£0.00</td>\n",
       "      <td>Chase Me (Paris Nights #2)</td>\n",
       "      <td>c2e46a2ee3b4a322</td>\n",
       "    </tr>\n",
       "    <tr>\n",
       "      <th>2</th>\n",
       "      <td>In stock (19 available)</td>\n",
       "      <td>Romance</td>\n",
       "      <td>No matter how busy he keeps himself, successfu...</td>\n",
       "      <td>0</td>\n",
       "      <td>Â£34.53</td>\n",
       "      <td>Â£34.53</td>\n",
       "      <td>Books</td>\n",
       "      <td>Five</td>\n",
       "      <td>Â£0.00</td>\n",
       "      <td>Black Dust</td>\n",
       "      <td>00bfed9e18bb36f3</td>\n",
       "    </tr>\n",
       "  </tbody>\n",
       "</table>\n",
       "</div>"
      ],
      "text/plain": [
       "              Availability Category  \\\n",
       "0  In stock (20 available)  Mystery   \n",
       "1  In stock (19 available)  Romance   \n",
       "2  In stock (19 available)  Romance   \n",
       "\n",
       "                                         Description Number of reviews  \\\n",
       "0  WICKED above her hipbone, GIRL across her hear...                 0   \n",
       "1  A Michelin two-star chef at twenty-eight, Viol...                 0   \n",
       "2  No matter how busy he keeps himself, successfu...                 0   \n",
       "\n",
       "  Price (excl. tax) Price (incl. tax) Product Type Rating     Tax  \\\n",
       "0           Â£47.82           Â£47.82        Books   Four  Â£0.00   \n",
       "1           Â£25.27           Â£25.27        Books   Five  Â£0.00   \n",
       "2           Â£34.53           Â£34.53        Books   Five  Â£0.00   \n",
       "\n",
       "                        Title               UPC  \n",
       "0               Sharp Objects  e00eb4fd7b871a48  \n",
       "1  Chase Me (Paris Nights #2)  c2e46a2ee3b4a322  \n",
       "2                  Black Dust  00bfed9e18bb36f3  "
      ]
     },
     "execution_count": 26,
     "metadata": {},
     "output_type": "execute_result"
    }
   ],
   "source": [
    "lab.scrape_books(5, ['Romance', 'Mystery'])"
   ]
  },
  {
   "cell_type": "markdown",
   "metadata": {},
   "source": [
    "# API Requests\n",
    "**Question 3**\n",
    "\n",
    "You trade stocks as a hobby. As an avid pandas coder, you figured it is best to calculate some statistics by pulling data from a public API (https://financialmodelingprep.com/developer/docs/#Stock-Historical-Price). Specifically, \"Historical price with change and volume interval\".\n",
    "\n",
    "Some definitions (these are the ones you need to know):\n",
    "- open: The opening price of a stock at the beginning of a trading day\n",
    "- close: The closing price of a stock at the end of a trading day\n",
    "- volume: The total number of shares being traded in a day\n",
    "- percent change: difference in price with respect to the original price (in percentages)\n",
    "\n",
    "\n",
    "1. Create a function `stock_history` which takes in the stock code (`ticker`) as a string, `year` and `month` as integers, and return a dataframe which has the price history for that stock in that month (include all columns).\n",
    "\n",
    "2. Create a function `stock_stats` that takes in the output dataframe from `stock_history` and output the stock price change as a percentage and a rough total transaction volume **in billion dollars** for that month. Assume that on average, shares are traded at the midpoint price of high and low for that day. Return these two values as a tuple in a readable format: reserve 2 decimal points for both values and add a plus or minus sign at the front of the percent change. \n",
    "$$ \\text{Total Transaction Volume (in dollars)} = \\text{Volume (number of shares traded)} \\times \\text{Price} $$\n",
    "\n",
    "*Example*: If \\\\$BYND opens at \\\\$80 and closes at \\\\$120 with a volume of 1 million, its percent change for the day is $(\\$120-\\$80) \\div \\$80 = +50.00\\%$. And the estimated total transaction volume is: $(\\$80+\\$120) / 2 \\times 10^6 = 0.10\\text{B}$.\n",
    "\n",
    "\n",
    "Hint: [pd.date_range](https://pandas.pydata.org/pandas-docs/stable/reference/api/pandas.date_range.html), \n",
    "\n",
    "*Note:* Make sure you read the API documentation if you get stuck!\n",
    "\n",
    "*Note 2:* In order to make successful requests, you will need an API key. In order to get one, you will need to sign up to the website. Once signed up, you can use the API key that comes with the free plan. It has a limit of 250 requests per day, which should be more than enough. In the code below, replace `your_key` when making requests."
   ]
  },
  {
   "cell_type": "code",
   "execution_count": 392,
   "metadata": {},
   "outputs": [],
   "source": [
    "q3_1 = lab.stock_history('AAPL', 2019, 6)"
   ]
  },
  {
   "cell_type": "code",
   "execution_count": 393,
   "metadata": {},
   "outputs": [
    {
     "data": {
      "text/plain": [
       "('+12.71%', '99.05B')"
      ]
     },
     "execution_count": 393,
     "metadata": {},
     "output_type": "execute_result"
    }
   ],
   "source": [
    "q3_2 = lab.stock_stats(q3_1)\n",
    "q3_2"
   ]
  },
  {
   "cell_type": "markdown",
   "metadata": {},
   "source": [
    "# Comment Threads\n",
    "\n",
    "**Question 4**\n",
    "\n",
    "As a hacker, you get your daily dose of tech news on [Hacker News](https://news.ycombinator.com/). The problem now is that you don't have internet access on your phone in your morning commute to work, so you want to save the interesting stories' comments thread beforehand in a flat file source like csv. You find their API documentation ( https://github.com/HackerNews/API) and implement the following task:\n",
    "\n",
    "1. Write a function `get_comments` that takes `storyid` as a parameter and returns a dataframe of all the comments below the news story. You can ignore 'dead' comments (you will know it when you see it). **Make sure the order of the comments in your dataframe is from top to bottom just as you see on the website**. You are allowed to use loops in this function. Addtional requirement: write at least one helper method\n",
    "\n",
    "You only want these information for the comments:\n",
    "1. `id`: the unique ids\n",
    "2. `by`: the author of the comment\n",
    "3. `parent`: who (also in unique ids) they are replying to\n",
    "4. `text`: the actual comment\n",
    "5. `time`: when the comment is created (in `pd.datetime` format)\n",
    "\n",
    "Hints:\n",
    "1. Use depth-first-search when traversing the comments tree.\n",
    "2. https://docs.python.org/3/tutorial/datastructures.html#using-lists-as-stacks.\n",
    "3. Check the size of your dataframe to the story's `descendants` attribute (number of comments)."
   ]
  },
  {
   "cell_type": "code",
   "execution_count": 424,
   "metadata": {},
   "outputs": [],
   "source": [
    "storyid = 18344932"
   ]
  },
  {
   "cell_type": "code",
   "execution_count": 425,
   "metadata": {},
   "outputs": [],
   "source": [
    "news_endpoint = f\"https://hacker-news.firebaseio.com/v0/item/{storyid}.json\""
   ]
  },
  {
   "cell_type": "code",
   "execution_count": 426,
   "metadata": {},
   "outputs": [],
   "source": [
    "response = requests.get(news_endpoint).json()"
   ]
  },
  {
   "cell_type": "code",
   "execution_count": 436,
   "metadata": {},
   "outputs": [
    {
     "data": {
      "text/plain": [
       "{'by': 'ScottWRobinson',\n",
       " 'descendants': 18,\n",
       " 'id': 18344932,\n",
       " 'kids': [18380397,\n",
       "  18346406,\n",
       "  18348601,\n",
       "  18346750,\n",
       "  18346476,\n",
       "  18346746,\n",
       "  18346388],\n",
       " 'score': 47,\n",
       " 'time': 1540987334,\n",
       " 'title': 'TimescaleDB 1.0 Is Production Ready',\n",
       " 'type': 'story',\n",
       " 'url': 'https://blog.timescale.com/1-0-enterprise-production-ready-time-series-database-open-source-d32395a10cbf'}"
      ]
     },
     "execution_count": 436,
     "metadata": {},
     "output_type": "execute_result"
    }
   ],
   "source": [
    "response"
   ]
  },
  {
   "cell_type": "code",
   "execution_count": 482,
   "metadata": {},
   "outputs": [
    {
     "data": {
      "text/plain": [
       "{'by': 'ScottWRobinson',\n",
       " 'descendants': 18,\n",
       " 'id': 18344932,\n",
       " 'kids': [18380397,\n",
       "  18346406,\n",
       "  18348601,\n",
       "  18346750,\n",
       "  18346476,\n",
       "  18346746,\n",
       "  18346388],\n",
       " 'score': 47,\n",
       " 'time': 1540987334,\n",
       " 'title': 'TimescaleDB 1.0 Is Production Ready',\n",
       " 'type': 'story',\n",
       " 'url': 'https://blog.timescale.com/1-0-enterprise-production-ready-time-series-database-open-source-d32395a10cbf'}"
      ]
     },
     "execution_count": 482,
     "metadata": {},
     "output_type": "execute_result"
    }
   ],
   "source": [
    "graph = response\n",
    "graph"
   ]
  },
  {
   "cell_type": "code",
   "execution_count": 513,
   "metadata": {},
   "outputs": [],
   "source": [
    "data = []"
   ]
  },
  {
   "cell_type": "code",
   "execution_count": 504,
   "metadata": {},
   "outputs": [
    {
     "ename": "SyntaxError",
     "evalue": "non-default argument follows default argument (<ipython-input-504-9b0e2ea2884a>, line 2)",
     "output_type": "error",
     "traceback": [
      "\u001b[1;36m  File \u001b[1;32m\"<ipython-input-504-9b0e2ea2884a>\"\u001b[1;36m, line \u001b[1;32m2\u001b[0m\n\u001b[1;33m    def dfs(graph, data, start='kids', visited):\u001b[0m\n\u001b[1;37m           ^\u001b[0m\n\u001b[1;31mSyntaxError\u001b[0m\u001b[1;31m:\u001b[0m non-default argument follows default argument\n"
     ]
    }
   ],
   "source": [
    "def dfs(graph, data, start='kids', visited):\n",
    "    \n",
    "    for i in range(len(graph[start])):\n",
    "        comm_id = graph[start][i]\n",
    "        comment_endpoint = f\"https://hacker-news.firebaseio.com/v0/item/{comm_id}.json\"\n",
    "        comm_response = requests.get(comment_endpoint).json()\n",
    "        if 'dead' in comm_response or 'kids' not in comm_response:\n",
    "            data.append(comm_response)\n",
    "            continue\n",
    "        comms = comm_response\n",
    "        dfs(comms, data)\n",
    "    \n",
    "    data.append(comm_response)"
   ]
  },
  {
   "cell_type": "code",
   "execution_count": 520,
   "metadata": {},
   "outputs": [],
   "source": [
    "def DFS(comments, u , data, status=None):\n",
    "    if status is None:\n",
    "        status = {user_id: 'U' for user_id in comments['kids']}\n",
    "        \n",
    "    status[u] = 'P'\n",
    "    for v in comments['kids']:\n",
    "        if status[v] == 'U':\n",
    "            DFS(comments, v, status)\n",
    "    status[u] = 'V'\n",
    "    url = f\"https://hacker-news.firebaseio.com/v0/item/{u}.json\"\n",
    "    data.append(request.get(url).json())"
   ]
  },
  {
   "cell_type": "code",
   "execution_count": 523,
   "metadata": {},
   "outputs": [],
   "source": [
    "def full_DFS(comments, data):\n",
    "    status = {i: 'U' for i in comments['kids']}\n",
    "    for user_id in comments['kids']:\n",
    "        if status[user_id] == 'U':\n",
    "            DFS(graph['kids'], graph['kids'][0], data, status)"
   ]
  },
  {
   "cell_type": "code",
   "execution_count": 524,
   "metadata": {},
   "outputs": [
    {
     "ename": "TypeError",
     "evalue": "list indices must be integers or slices, not str",
     "output_type": "error",
     "traceback": [
      "\u001b[1;31m---------------------------------------------------------------------------\u001b[0m",
      "\u001b[1;31mTypeError\u001b[0m                                 Traceback (most recent call last)",
      "\u001b[1;32m<ipython-input-524-da39bb7cd1b2>\u001b[0m in \u001b[0;36m<module>\u001b[1;34m\u001b[0m\n\u001b[1;32m----> 1\u001b[1;33m \u001b[0mfull_DFS\u001b[0m\u001b[1;33m(\u001b[0m\u001b[0mgraph\u001b[0m\u001b[1;33m,\u001b[0m \u001b[0mdata\u001b[0m\u001b[1;33m)\u001b[0m\u001b[1;33m\u001b[0m\u001b[1;33m\u001b[0m\u001b[0m\n\u001b[0m",
      "\u001b[1;32m<ipython-input-523-d124fb8fb180>\u001b[0m in \u001b[0;36mfull_DFS\u001b[1;34m(comments, data)\u001b[0m\n\u001b[0;32m      3\u001b[0m     \u001b[1;32mfor\u001b[0m \u001b[0muser_id\u001b[0m \u001b[1;32min\u001b[0m \u001b[0mcomments\u001b[0m\u001b[1;33m[\u001b[0m\u001b[1;34m'kids'\u001b[0m\u001b[1;33m]\u001b[0m\u001b[1;33m:\u001b[0m\u001b[1;33m\u001b[0m\u001b[1;33m\u001b[0m\u001b[0m\n\u001b[0;32m      4\u001b[0m         \u001b[1;32mif\u001b[0m \u001b[0mstatus\u001b[0m\u001b[1;33m[\u001b[0m\u001b[0muser_id\u001b[0m\u001b[1;33m]\u001b[0m \u001b[1;33m==\u001b[0m \u001b[1;34m'U'\u001b[0m\u001b[1;33m:\u001b[0m\u001b[1;33m\u001b[0m\u001b[1;33m\u001b[0m\u001b[0m\n\u001b[1;32m----> 5\u001b[1;33m             \u001b[0mDFS\u001b[0m\u001b[1;33m(\u001b[0m\u001b[0mgraph\u001b[0m\u001b[1;33m[\u001b[0m\u001b[1;34m'kids'\u001b[0m\u001b[1;33m]\u001b[0m\u001b[1;33m,\u001b[0m \u001b[0mgraph\u001b[0m\u001b[1;33m[\u001b[0m\u001b[1;34m'kids'\u001b[0m\u001b[1;33m]\u001b[0m\u001b[1;33m[\u001b[0m\u001b[1;36m0\u001b[0m\u001b[1;33m]\u001b[0m\u001b[1;33m,\u001b[0m \u001b[0mdata\u001b[0m\u001b[1;33m,\u001b[0m \u001b[0mstatus\u001b[0m\u001b[1;33m)\u001b[0m\u001b[1;33m\u001b[0m\u001b[1;33m\u001b[0m\u001b[0m\n\u001b[0m",
      "\u001b[1;32m<ipython-input-520-a9ff5d307f0a>\u001b[0m in \u001b[0;36mDFS\u001b[1;34m(comments, u, data, status)\u001b[0m\n\u001b[0;32m      4\u001b[0m \u001b[1;33m\u001b[0m\u001b[0m\n\u001b[0;32m      5\u001b[0m     \u001b[0mstatus\u001b[0m\u001b[1;33m[\u001b[0m\u001b[0mu\u001b[0m\u001b[1;33m]\u001b[0m \u001b[1;33m=\u001b[0m \u001b[1;34m'P'\u001b[0m\u001b[1;33m\u001b[0m\u001b[1;33m\u001b[0m\u001b[0m\n\u001b[1;32m----> 6\u001b[1;33m     \u001b[1;32mfor\u001b[0m \u001b[0mv\u001b[0m \u001b[1;32min\u001b[0m \u001b[0mcomments\u001b[0m\u001b[1;33m[\u001b[0m\u001b[1;34m'kids'\u001b[0m\u001b[1;33m]\u001b[0m\u001b[1;33m:\u001b[0m\u001b[1;33m\u001b[0m\u001b[1;33m\u001b[0m\u001b[0m\n\u001b[0m\u001b[0;32m      7\u001b[0m         \u001b[1;32mif\u001b[0m \u001b[0mstatus\u001b[0m\u001b[1;33m[\u001b[0m\u001b[0mv\u001b[0m\u001b[1;33m]\u001b[0m \u001b[1;33m==\u001b[0m \u001b[1;34m'U'\u001b[0m\u001b[1;33m:\u001b[0m\u001b[1;33m\u001b[0m\u001b[1;33m\u001b[0m\u001b[0m\n\u001b[0;32m      8\u001b[0m             \u001b[0mDFS\u001b[0m\u001b[1;33m(\u001b[0m\u001b[0mcomments\u001b[0m\u001b[1;33m,\u001b[0m \u001b[0mv\u001b[0m\u001b[1;33m,\u001b[0m \u001b[0mstatus\u001b[0m\u001b[1;33m)\u001b[0m\u001b[1;33m\u001b[0m\u001b[1;33m\u001b[0m\u001b[0m\n",
      "\u001b[1;31mTypeError\u001b[0m: list indices must be integers or slices, not str"
     ]
    }
   ],
   "source": [
    "full_DFS(graph, data)"
   ]
  },
  {
   "cell_type": "code",
   "execution_count": 497,
   "metadata": {},
   "outputs": [
    {
     "data": {
      "text/html": [
       "<div>\n",
       "<style scoped>\n",
       "    .dataframe tbody tr th:only-of-type {\n",
       "        vertical-align: middle;\n",
       "    }\n",
       "\n",
       "    .dataframe tbody tr th {\n",
       "        vertical-align: top;\n",
       "    }\n",
       "\n",
       "    .dataframe thead th {\n",
       "        text-align: right;\n",
       "    }\n",
       "</style>\n",
       "<table border=\"1\" class=\"dataframe\">\n",
       "  <thead>\n",
       "    <tr style=\"text-align: right;\">\n",
       "      <th></th>\n",
       "      <th>by</th>\n",
       "      <th>id</th>\n",
       "      <th>parent</th>\n",
       "      <th>text</th>\n",
       "      <th>time</th>\n",
       "      <th>type</th>\n",
       "      <th>kids</th>\n",
       "      <th>dead</th>\n",
       "    </tr>\n",
       "  </thead>\n",
       "  <tbody>\n",
       "    <tr>\n",
       "      <th>0</th>\n",
       "      <td>valyala</td>\n",
       "      <td>18380397</td>\n",
       "      <td>18344932</td>\n",
       "      <td>TimescaleDB is great for storing time series c...</td>\n",
       "      <td>1541400799</td>\n",
       "      <td>comment</td>\n",
       "      <td>NaN</td>\n",
       "      <td>NaN</td>\n",
       "    </tr>\n",
       "    <tr>\n",
       "      <th>1</th>\n",
       "      <td>msiggy</td>\n",
       "      <td>18346406</td>\n",
       "      <td>18344932</td>\n",
       "      <td>I&amp;#x27;m excited to give this database a try i...</td>\n",
       "      <td>1540999222</td>\n",
       "      <td>comment</td>\n",
       "      <td>NaN</td>\n",
       "      <td>NaN</td>\n",
       "    </tr>\n",
       "    <tr>\n",
       "      <th>2</th>\n",
       "      <td>RobAtticus</td>\n",
       "      <td>18351061</td>\n",
       "      <td>18350673</td>\n",
       "      <td>It does not support sharding writes across mul...</td>\n",
       "      <td>1541039703</td>\n",
       "      <td>comment</td>\n",
       "      <td>NaN</td>\n",
       "      <td>NaN</td>\n",
       "    </tr>\n",
       "    <tr>\n",
       "      <th>3</th>\n",
       "      <td>RobAtticus</td>\n",
       "      <td>18351061</td>\n",
       "      <td>18350673</td>\n",
       "      <td>It does not support sharding writes across mul...</td>\n",
       "      <td>1541039703</td>\n",
       "      <td>comment</td>\n",
       "      <td>NaN</td>\n",
       "      <td>NaN</td>\n",
       "    </tr>\n",
       "    <tr>\n",
       "      <th>4</th>\n",
       "      <td>sman393</td>\n",
       "      <td>18350673</td>\n",
       "      <td>18349540</td>\n",
       "      <td>Alright thanks! I thought I read that Timescal...</td>\n",
       "      <td>1541034719</td>\n",
       "      <td>comment</td>\n",
       "      <td>[18351061]</td>\n",
       "      <td>NaN</td>\n",
       "    </tr>\n",
       "    <tr>\n",
       "      <th>5</th>\n",
       "      <td>RobAtticus</td>\n",
       "      <td>18349540</td>\n",
       "      <td>18348984</td>\n",
       "      <td>Not sure I follow exactly what you&amp;#x27;re ask...</td>\n",
       "      <td>1541022440</td>\n",
       "      <td>comment</td>\n",
       "      <td>[18350673]</td>\n",
       "      <td>NaN</td>\n",
       "    </tr>\n",
       "    <tr>\n",
       "      <th>6</th>\n",
       "      <td>sman393</td>\n",
       "      <td>18348984</td>\n",
       "      <td>18348631</td>\n",
       "      <td>Good to hear! how does the current TimescaleDB...</td>\n",
       "      <td>1541017426</td>\n",
       "      <td>comment</td>\n",
       "      <td>[18349540]</td>\n",
       "      <td>NaN</td>\n",
       "    </tr>\n",
       "    <tr>\n",
       "      <th>7</th>\n",
       "      <td>RobAtticus</td>\n",
       "      <td>18348631</td>\n",
       "      <td>18348601</td>\n",
       "      <td>Yep, absolutely. Regular PostgreSQL tables coe...</td>\n",
       "      <td>1541014492</td>\n",
       "      <td>comment</td>\n",
       "      <td>[18348984]</td>\n",
       "      <td>NaN</td>\n",
       "    </tr>\n",
       "    <tr>\n",
       "      <th>8</th>\n",
       "      <td>nevi-me</td>\n",
       "      <td>18347260</td>\n",
       "      <td>18346750</td>\n",
       "      <td>I spent about 8 months writing data to TSDB. I...</td>\n",
       "      <td>1541004454</td>\n",
       "      <td>comment</td>\n",
       "      <td>NaN</td>\n",
       "      <td>NaN</td>\n",
       "    </tr>\n",
       "    <tr>\n",
       "      <th>9</th>\n",
       "      <td>dominotw</td>\n",
       "      <td>18347555</td>\n",
       "      <td>18346750</td>\n",
       "      <td>They have some numbers on their blog. Its very...</td>\n",
       "      <td>1541006374</td>\n",
       "      <td>comment</td>\n",
       "      <td>NaN</td>\n",
       "      <td>NaN</td>\n",
       "    </tr>\n",
       "    <tr>\n",
       "      <th>10</th>\n",
       "      <td>dominotw</td>\n",
       "      <td>18347555</td>\n",
       "      <td>18346750</td>\n",
       "      <td>They have some numbers on their blog. Its very...</td>\n",
       "      <td>1541006374</td>\n",
       "      <td>comment</td>\n",
       "      <td>NaN</td>\n",
       "      <td>NaN</td>\n",
       "    </tr>\n",
       "    <tr>\n",
       "      <th>11</th>\n",
       "      <td>grumpydba</td>\n",
       "      <td>18347232</td>\n",
       "      <td>18346702</td>\n",
       "      <td>Hi,&lt;p&gt;are the upcoming clustering efforts deve...</td>\n",
       "      <td>1541004279</td>\n",
       "      <td>comment</td>\n",
       "      <td>NaN</td>\n",
       "      <td>NaN</td>\n",
       "    </tr>\n",
       "    <tr>\n",
       "      <th>12</th>\n",
       "      <td>grumpydba</td>\n",
       "      <td>18347232</td>\n",
       "      <td>18346702</td>\n",
       "      <td>Hi,&lt;p&gt;are the upcoming clustering efforts deve...</td>\n",
       "      <td>1541004279</td>\n",
       "      <td>comment</td>\n",
       "      <td>NaN</td>\n",
       "      <td>NaN</td>\n",
       "    </tr>\n",
       "    <tr>\n",
       "      <th>13</th>\n",
       "      <td>jason_slack</td>\n",
       "      <td>18349689</td>\n",
       "      <td>18346476</td>\n",
       "      <td>What were the specs of the machine you were us...</td>\n",
       "      <td>1541024187</td>\n",
       "      <td>comment</td>\n",
       "      <td>NaN</td>\n",
       "      <td>NaN</td>\n",
       "    </tr>\n",
       "    <tr>\n",
       "      <th>14</th>\n",
       "      <td>jason_slack</td>\n",
       "      <td>18349689</td>\n",
       "      <td>18346476</td>\n",
       "      <td>What were the specs of the machine you were us...</td>\n",
       "      <td>1541024187</td>\n",
       "      <td>comment</td>\n",
       "      <td>NaN</td>\n",
       "      <td>NaN</td>\n",
       "    </tr>\n",
       "    <tr>\n",
       "      <th>15</th>\n",
       "      <td>athenot</td>\n",
       "      <td>18346822</td>\n",
       "      <td>18346787</td>\n",
       "      <td>Thanks a lot, this is useful for comparing.&lt;p&gt;...</td>\n",
       "      <td>1541001629</td>\n",
       "      <td>comment</td>\n",
       "      <td>NaN</td>\n",
       "      <td>NaN</td>\n",
       "    </tr>\n",
       "    <tr>\n",
       "      <th>16</th>\n",
       "      <td>athenot</td>\n",
       "      <td>18346822</td>\n",
       "      <td>18346787</td>\n",
       "      <td>Thanks a lot, this is useful for comparing.&lt;p&gt;...</td>\n",
       "      <td>1541001629</td>\n",
       "      <td>comment</td>\n",
       "      <td>NaN</td>\n",
       "      <td>NaN</td>\n",
       "    </tr>\n",
       "    <tr>\n",
       "      <th>17</th>\n",
       "      <td>RobAtticus</td>\n",
       "      <td>18346787</td>\n",
       "      <td>18346746</td>\n",
       "      <td>We do have comparisons, but judging by their M...</td>\n",
       "      <td>1541001399</td>\n",
       "      <td>comment</td>\n",
       "      <td>[18346822]</td>\n",
       "      <td>NaN</td>\n",
       "    </tr>\n",
       "    <tr>\n",
       "      <th>18</th>\n",
       "      <td>jymit</td>\n",
       "      <td>18346388</td>\n",
       "      <td>18344932</td>\n",
       "      <td>&lt;a href=\"https:&amp;#x2F;&amp;#x2F;blog.timescale.com&amp;...</td>\n",
       "      <td>1540999108</td>\n",
       "      <td>comment</td>\n",
       "      <td>NaN</td>\n",
       "      <td>True</td>\n",
       "    </tr>\n",
       "    <tr>\n",
       "      <th>19</th>\n",
       "      <td>jymit</td>\n",
       "      <td>18346388</td>\n",
       "      <td>18344932</td>\n",
       "      <td>&lt;a href=\"https:&amp;#x2F;&amp;#x2F;blog.timescale.com&amp;...</td>\n",
       "      <td>1540999108</td>\n",
       "      <td>comment</td>\n",
       "      <td>NaN</td>\n",
       "      <td>True</td>\n",
       "    </tr>\n",
       "  </tbody>\n",
       "</table>\n",
       "</div>"
      ],
      "text/plain": [
       "             by        id    parent  \\\n",
       "0       valyala  18380397  18344932   \n",
       "1        msiggy  18346406  18344932   \n",
       "2    RobAtticus  18351061  18350673   \n",
       "3    RobAtticus  18351061  18350673   \n",
       "4       sman393  18350673  18349540   \n",
       "5    RobAtticus  18349540  18348984   \n",
       "6       sman393  18348984  18348631   \n",
       "7    RobAtticus  18348631  18348601   \n",
       "8       nevi-me  18347260  18346750   \n",
       "9      dominotw  18347555  18346750   \n",
       "10     dominotw  18347555  18346750   \n",
       "11    grumpydba  18347232  18346702   \n",
       "12    grumpydba  18347232  18346702   \n",
       "13  jason_slack  18349689  18346476   \n",
       "14  jason_slack  18349689  18346476   \n",
       "15      athenot  18346822  18346787   \n",
       "16      athenot  18346822  18346787   \n",
       "17   RobAtticus  18346787  18346746   \n",
       "18        jymit  18346388  18344932   \n",
       "19        jymit  18346388  18344932   \n",
       "\n",
       "                                                 text        time     type  \\\n",
       "0   TimescaleDB is great for storing time series c...  1541400799  comment   \n",
       "1   I&#x27;m excited to give this database a try i...  1540999222  comment   \n",
       "2   It does not support sharding writes across mul...  1541039703  comment   \n",
       "3   It does not support sharding writes across mul...  1541039703  comment   \n",
       "4   Alright thanks! I thought I read that Timescal...  1541034719  comment   \n",
       "5   Not sure I follow exactly what you&#x27;re ask...  1541022440  comment   \n",
       "6   Good to hear! how does the current TimescaleDB...  1541017426  comment   \n",
       "7   Yep, absolutely. Regular PostgreSQL tables coe...  1541014492  comment   \n",
       "8   I spent about 8 months writing data to TSDB. I...  1541004454  comment   \n",
       "9   They have some numbers on their blog. Its very...  1541006374  comment   \n",
       "10  They have some numbers on their blog. Its very...  1541006374  comment   \n",
       "11  Hi,<p>are the upcoming clustering efforts deve...  1541004279  comment   \n",
       "12  Hi,<p>are the upcoming clustering efforts deve...  1541004279  comment   \n",
       "13  What were the specs of the machine you were us...  1541024187  comment   \n",
       "14  What were the specs of the machine you were us...  1541024187  comment   \n",
       "15  Thanks a lot, this is useful for comparing.<p>...  1541001629  comment   \n",
       "16  Thanks a lot, this is useful for comparing.<p>...  1541001629  comment   \n",
       "17  We do have comparisons, but judging by their M...  1541001399  comment   \n",
       "18  <a href=\"https:&#x2F;&#x2F;blog.timescale.com&...  1540999108  comment   \n",
       "19  <a href=\"https:&#x2F;&#x2F;blog.timescale.com&...  1540999108  comment   \n",
       "\n",
       "          kids  dead  \n",
       "0          NaN   NaN  \n",
       "1          NaN   NaN  \n",
       "2          NaN   NaN  \n",
       "3          NaN   NaN  \n",
       "4   [18351061]   NaN  \n",
       "5   [18350673]   NaN  \n",
       "6   [18349540]   NaN  \n",
       "7   [18348984]   NaN  \n",
       "8          NaN   NaN  \n",
       "9          NaN   NaN  \n",
       "10         NaN   NaN  \n",
       "11         NaN   NaN  \n",
       "12         NaN   NaN  \n",
       "13         NaN   NaN  \n",
       "14         NaN   NaN  \n",
       "15         NaN   NaN  \n",
       "16         NaN   NaN  \n",
       "17  [18346822]   NaN  \n",
       "18         NaN  True  \n",
       "19         NaN  True  "
      ]
     },
     "execution_count": 497,
     "metadata": {},
     "output_type": "execute_result"
    }
   ],
   "source": [
    "pd.DataFrame(data)"
   ]
  },
  {
   "cell_type": "code",
   "execution_count": 429,
   "metadata": {},
   "outputs": [],
   "source": [
    "comments = []\n",
    "for id in comment_ids:\n",
    "    comments.append(get_commenters(id))"
   ]
  },
  {
   "cell_type": "code",
   "execution_count": 454,
   "metadata": {},
   "outputs": [
    {
     "data": {
      "text/plain": [
       "{'by': 'jymit',\n",
       " 'dead': True,\n",
       " 'id': 18346388,\n",
       " 'parent': 18344932,\n",
       " 'text': '<a href=\"https:&#x2F;&#x2F;blog.timescale.com&#x2F;announcing-1-0-enterprise-ready-time-series-database-sql-open-source-400b4342dfa0\" rel=\"nofollow\">https:&#x2F;&#x2F;blog.timescale.com&#x2F;announcing-1-0-enterprise-ready-t...</a><p>exciting times!',\n",
       " 'time': 1540999108,\n",
       " 'type': 'comment'}"
      ]
     },
     "execution_count": 454,
     "metadata": {},
     "output_type": "execute_result"
    }
   ],
   "source": [
    "comments[-1]"
   ]
  },
  {
   "cell_type": "code",
   "execution_count": 430,
   "metadata": {},
   "outputs": [
    {
     "data": {
      "text/html": [
       "<div>\n",
       "<style scoped>\n",
       "    .dataframe tbody tr th:only-of-type {\n",
       "        vertical-align: middle;\n",
       "    }\n",
       "\n",
       "    .dataframe tbody tr th {\n",
       "        vertical-align: top;\n",
       "    }\n",
       "\n",
       "    .dataframe thead th {\n",
       "        text-align: right;\n",
       "    }\n",
       "</style>\n",
       "<table border=\"1\" class=\"dataframe\">\n",
       "  <thead>\n",
       "    <tr style=\"text-align: right;\">\n",
       "      <th></th>\n",
       "      <th>by</th>\n",
       "      <th>id</th>\n",
       "      <th>parent</th>\n",
       "      <th>text</th>\n",
       "      <th>time</th>\n",
       "      <th>type</th>\n",
       "      <th>kids</th>\n",
       "      <th>dead</th>\n",
       "    </tr>\n",
       "  </thead>\n",
       "  <tbody>\n",
       "    <tr>\n",
       "      <th>0</th>\n",
       "      <td>valyala</td>\n",
       "      <td>18380397</td>\n",
       "      <td>18344932</td>\n",
       "      <td>TimescaleDB is great for storing time series c...</td>\n",
       "      <td>1541400799</td>\n",
       "      <td>comment</td>\n",
       "      <td>NaN</td>\n",
       "      <td>NaN</td>\n",
       "    </tr>\n",
       "    <tr>\n",
       "      <th>1</th>\n",
       "      <td>msiggy</td>\n",
       "      <td>18346406</td>\n",
       "      <td>18344932</td>\n",
       "      <td>I&amp;#x27;m excited to give this database a try i...</td>\n",
       "      <td>1540999222</td>\n",
       "      <td>comment</td>\n",
       "      <td>NaN</td>\n",
       "      <td>NaN</td>\n",
       "    </tr>\n",
       "    <tr>\n",
       "      <th>2</th>\n",
       "      <td>sman393</td>\n",
       "      <td>18348601</td>\n",
       "      <td>18344932</td>\n",
       "      <td>Can this be used side by side on normal Postgr...</td>\n",
       "      <td>1541014179</td>\n",
       "      <td>comment</td>\n",
       "      <td>[18348631]</td>\n",
       "      <td>NaN</td>\n",
       "    </tr>\n",
       "    <tr>\n",
       "      <th>3</th>\n",
       "      <td>zip1234</td>\n",
       "      <td>18346750</td>\n",
       "      <td>18344932</td>\n",
       "      <td>How fast is it when it has a TB of data? I rea...</td>\n",
       "      <td>1541001103</td>\n",
       "      <td>comment</td>\n",
       "      <td>[18347260, 18347555]</td>\n",
       "      <td>NaN</td>\n",
       "    </tr>\n",
       "    <tr>\n",
       "      <th>4</th>\n",
       "      <td>dominotw</td>\n",
       "      <td>18346476</td>\n",
       "      <td>18344932</td>\n",
       "      <td>I evaluated this heavily but had to backoff be...</td>\n",
       "      <td>1540999649</td>\n",
       "      <td>comment</td>\n",
       "      <td>[18346702, 18349689]</td>\n",
       "      <td>NaN</td>\n",
       "    </tr>\n",
       "    <tr>\n",
       "      <th>5</th>\n",
       "      <td>athenot</td>\n",
       "      <td>18346746</td>\n",
       "      <td>18344932</td>\n",
       "      <td>It would be nice if they did a quick compariso...</td>\n",
       "      <td>1541001073</td>\n",
       "      <td>comment</td>\n",
       "      <td>[18346787]</td>\n",
       "      <td>NaN</td>\n",
       "    </tr>\n",
       "    <tr>\n",
       "      <th>6</th>\n",
       "      <td>jymit</td>\n",
       "      <td>18346388</td>\n",
       "      <td>18344932</td>\n",
       "      <td>&lt;a href=\"https:&amp;#x2F;&amp;#x2F;blog.timescale.com&amp;...</td>\n",
       "      <td>1540999108</td>\n",
       "      <td>comment</td>\n",
       "      <td>NaN</td>\n",
       "      <td>True</td>\n",
       "    </tr>\n",
       "  </tbody>\n",
       "</table>\n",
       "</div>"
      ],
      "text/plain": [
       "         by        id    parent  \\\n",
       "0   valyala  18380397  18344932   \n",
       "1    msiggy  18346406  18344932   \n",
       "2   sman393  18348601  18344932   \n",
       "3   zip1234  18346750  18344932   \n",
       "4  dominotw  18346476  18344932   \n",
       "5   athenot  18346746  18344932   \n",
       "6     jymit  18346388  18344932   \n",
       "\n",
       "                                                text        time     type  \\\n",
       "0  TimescaleDB is great for storing time series c...  1541400799  comment   \n",
       "1  I&#x27;m excited to give this database a try i...  1540999222  comment   \n",
       "2  Can this be used side by side on normal Postgr...  1541014179  comment   \n",
       "3  How fast is it when it has a TB of data? I rea...  1541001103  comment   \n",
       "4  I evaluated this heavily but had to backoff be...  1540999649  comment   \n",
       "5  It would be nice if they did a quick compariso...  1541001073  comment   \n",
       "6  <a href=\"https:&#x2F;&#x2F;blog.timescale.com&...  1540999108  comment   \n",
       "\n",
       "                   kids  dead  \n",
       "0                   NaN   NaN  \n",
       "1                   NaN   NaN  \n",
       "2            [18348631]   NaN  \n",
       "3  [18347260, 18347555]   NaN  \n",
       "4  [18346702, 18349689]   NaN  \n",
       "5            [18346787]   NaN  \n",
       "6                   NaN  True  "
      ]
     },
     "execution_count": 430,
     "metadata": {},
     "output_type": "execute_result"
    }
   ],
   "source": [
    "pd.DataFrame(comments)"
   ]
  },
  {
   "cell_type": "markdown",
   "metadata": {},
   "source": [
    "## Congratulations! You're done!\n",
    "\n",
    "* Submit the lab on Gradescope"
   ]
  }
 ],
 "metadata": {
  "kernelspec": {
   "display_name": "Python 3",
   "language": "python",
   "name": "python3"
  },
  "language_info": {
   "codemirror_mode": {
    "name": "ipython",
    "version": 3
   },
   "file_extension": ".py",
   "mimetype": "text/x-python",
   "name": "python",
   "nbconvert_exporter": "python",
   "pygments_lexer": "ipython3",
   "version": "3.6.12"
  }
 },
 "nbformat": 4,
 "nbformat_minor": 2
}
