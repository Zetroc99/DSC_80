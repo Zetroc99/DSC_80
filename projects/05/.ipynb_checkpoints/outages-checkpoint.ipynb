{
 "cells": [
  {
   "cell_type": "markdown",
   "metadata": {},
   "source": [
    "# Power Outages\n",
    "* **See the main project notebook for instructions to be sure you satisfy the rubric!**\n",
    "* See Project 03 for information on the dataset.\n",
    "* A few example prediction questions to pursue are listed below. However, don't limit yourself to them!\n",
    "    * Predict the severity (number of customers, duration, or demand loss) of a major power outage.\n",
    "    * Predict the cause of a major power outage.\n",
    "    * Predict the number and/or severity of major power outages in the year 2020.\n",
    "    * Predict the electricity consumption of an area.\n",
    "\n",
    "Be careful to justify what information you would know at the \"time of prediction\" and train your model using only those features."
   ]
  },
  {
   "cell_type": "markdown",
   "metadata": {},
   "source": [
    "# Summary of Findings\n",
    "\n",
    "\n",
    "### Introduction\n",
    "In the power outages dataset, I will be attempting a classification problem to determine the cause of a major power outage.\n",
    "The target variable in this case is very simply the \"CAUSE.CATEGORY\" variable in the dataset, as it is able to distinguish between seven general forms of ways to cause a major power outage. And the evaluation metric that I will be looking at will be accuracy.\n",
    "\n",
    "### Baseline Model\n",
    "The baseline model had 3 features:\n",
    "\n",
    "    - 2 Nominal ('CLIMATE.REGION', 'HURRICANE.NAMES')\n",
    "    - 1 Quantitative ('POPULATION')\n",
    "and the target variable ('CAUSE.CATEGORY'). The baseline model ran on the KNeighbors Classifier had an accuracy performance of about 0.69 in the training set and about 0.60 in the testing set. I think the numbers are better than I expected given the simlicity of the varibles used, and the lack of quanititative and oridinal data. But I do think that there is plent of room for improvement.\n",
    "\n",
    "\n",
    "### Final Model\n",
    "The final model had one more feature added and two new features engineered:\n",
    "\n",
    "    - 1 Quantitative added('ANOMALY.LEVEL')\n",
    "    - 'HURRICANE.NAMES' was one hot encoded on whether there was or wasn't a hurricane\n",
    "    - 'POPULATION' was normalized\n",
    "The final model ran on a Decision Tree Classifier with the best 'max_depth' parameter being the most optimal at 15. The model was able to perform better in both training and in testing. The training accuracy was about 0.89 and the testing was about 0.64. Both improvements from the basline model.\n",
    "\n",
    "### Fairness Evaluation\n",
    "I performed a fairness evaluation on a subset of the data consisting of whether or not an outage was caused by a hurricane. So the variable 'HURRICANE.NAMES' became 'is_hurricane' and then I explored whether the model was fairer towards outages caused by hurricanes or not. I used accuracy as a parity measure because I wanted to determine whether my model has higher a higher success of correctly predicting the label for an outage caused by a hurricane. \n",
    "\n",
    "For the permutation test with a significance level of 0.05 we had the following null and alternative hypothesis:\n",
    "\n",
    "    - H0: My model is fair, the accuracy for my hurricane and no hurricane are about the same.\n",
    "    - H1: My model is unfair; the accuracy for hurricane is higher than with no hurricane.\n",
    "From the permuation test as shown below in the coding section, we must reject the null hypothesis and deternmine that there is no accuracy parity"
   ]
  },
  {
   "cell_type": "markdown",
   "metadata": {},
   "source": [
    "# Code"
   ]
  },
  {
   "cell_type": "code",
   "execution_count": 1,
   "metadata": {},
   "outputs": [],
   "source": [
    "import warnings\n",
    "warnings.filterwarnings('ignore')\n",
    "\n",
    "import matplotlib.pyplot as plt\n",
    "import numpy as np\n",
    "import os\n",
    "import pandas as pd\n",
    "import seaborn as sns\n",
    "%matplotlib inline\n",
    "# %config InlineBackend.figure_format = 'retina'  # Higher resolution figures"
   ]
  },
  {
   "cell_type": "code",
   "execution_count": 2,
   "metadata": {},
   "outputs": [],
   "source": [
    "from sklearn.compose import ColumnTransformer\n",
    "from sklearn.preprocessing import FunctionTransformer\n",
    "from sklearn.preprocessing import StandardScaler\n",
    "from sklearn.preprocessing import OneHotEncoder\n",
    "\n",
    "from sklearn import metrics\n",
    "from sklearn.model_selection import GridSearchCV\n",
    "from sklearn.tree import DecisionTreeClassifier\n",
    "from sklearn.neighbors import KNeighborsClassifier\n",
    "from sklearn.pipeline import Pipeline\n",
    "from sklearn.model_selection import train_test_split"
   ]
  },
  {
   "cell_type": "markdown",
   "metadata": {},
   "source": [
    "#### Load and filter dataset"
   ]
  },
  {
   "cell_type": "code",
   "execution_count": 3,
   "metadata": {},
   "outputs": [
    {
     "data": {
      "text/html": [
       "<div>\n",
       "<style scoped>\n",
       "    .dataframe tbody tr th:only-of-type {\n",
       "        vertical-align: middle;\n",
       "    }\n",
       "\n",
       "    .dataframe tbody tr th {\n",
       "        vertical-align: top;\n",
       "    }\n",
       "\n",
       "    .dataframe thead th {\n",
       "        text-align: right;\n",
       "    }\n",
       "</style>\n",
       "<table border=\"1\" class=\"dataframe\">\n",
       "  <thead>\n",
       "    <tr style=\"text-align: right;\">\n",
       "      <th></th>\n",
       "      <th>CAUSE.CATEGORY</th>\n",
       "      <th>CLIMATE.REGION</th>\n",
       "      <th>POPULATION</th>\n",
       "      <th>HURRICANE.NAMES</th>\n",
       "    </tr>\n",
       "  </thead>\n",
       "  <tbody>\n",
       "    <tr>\n",
       "      <th>0</th>\n",
       "      <td>severe weather</td>\n",
       "      <td>East North Central</td>\n",
       "      <td>5348119.0</td>\n",
       "      <td>NaN</td>\n",
       "    </tr>\n",
       "    <tr>\n",
       "      <th>1</th>\n",
       "      <td>intentional attack</td>\n",
       "      <td>East North Central</td>\n",
       "      <td>5457125.0</td>\n",
       "      <td>NaN</td>\n",
       "    </tr>\n",
       "    <tr>\n",
       "      <th>2</th>\n",
       "      <td>severe weather</td>\n",
       "      <td>East North Central</td>\n",
       "      <td>5310903.0</td>\n",
       "      <td>NaN</td>\n",
       "    </tr>\n",
       "    <tr>\n",
       "      <th>3</th>\n",
       "      <td>severe weather</td>\n",
       "      <td>East North Central</td>\n",
       "      <td>5380443.0</td>\n",
       "      <td>NaN</td>\n",
       "    </tr>\n",
       "    <tr>\n",
       "      <th>4</th>\n",
       "      <td>severe weather</td>\n",
       "      <td>East North Central</td>\n",
       "      <td>5489594.0</td>\n",
       "      <td>NaN</td>\n",
       "    </tr>\n",
       "  </tbody>\n",
       "</table>\n",
       "</div>"
      ],
      "text/plain": [
       "       CAUSE.CATEGORY      CLIMATE.REGION  POPULATION HURRICANE.NAMES\n",
       "0      severe weather  East North Central   5348119.0             NaN\n",
       "1  intentional attack  East North Central   5457125.0             NaN\n",
       "2      severe weather  East North Central   5310903.0             NaN\n",
       "3      severe weather  East North Central   5380443.0             NaN\n",
       "4      severe weather  East North Central   5489594.0             NaN"
      ]
     },
     "execution_count": 3,
     "metadata": {},
     "output_type": "execute_result"
    }
   ],
   "source": [
    "outages = pd.read_excel('outage.xlsx', index_col=1, skiprows=5, comment='#')\n",
    "outages = outages.drop(columns=['variables']).iloc[1:].reset_index(drop=True)\n",
    "outages = outages[['CAUSE.CATEGORY', 'CLIMATE.REGION', 'POPULATION',\n",
    "                   'HURRICANE.NAMES'\n",
    "                  ]]\n",
    "outages.head()"
   ]
  },
  {
   "cell_type": "markdown",
   "metadata": {},
   "source": [
    "#### Clean columns, drop NaN, and make copy"
   ]
  },
  {
   "cell_type": "code",
   "execution_count": 4,
   "metadata": {},
   "outputs": [],
   "source": [
    "outages['HURRICANE.NAMES'] = outages['HURRICANE.NAMES'].replace({np.NaN: 'NO'})"
   ]
  },
  {
   "cell_type": "code",
   "execution_count": 5,
   "metadata": {},
   "outputs": [
    {
     "data": {
      "text/plain": [
       "CAUSE.CATEGORY     0\n",
       "CLIMATE.REGION     6\n",
       "POPULATION         0\n",
       "HURRICANE.NAMES    0\n",
       "dtype: int64"
      ]
     },
     "execution_count": 5,
     "metadata": {},
     "output_type": "execute_result"
    }
   ],
   "source": [
    "outages.isna().sum() ## Few NaN, we can drop"
   ]
  },
  {
   "cell_type": "code",
   "execution_count": 6,
   "metadata": {},
   "outputs": [],
   "source": [
    "outages = outages.dropna() ## drop NaNs\n",
    "outages_final = outages.copy() ## Copy that will be used in the final model"
   ]
  },
  {
   "cell_type": "markdown",
   "metadata": {},
   "source": [
    "#### Feature Engineering for baselinemodel"
   ]
  },
  {
   "cell_type": "code",
   "execution_count": 7,
   "metadata": {},
   "outputs": [],
   "source": [
    "## One Hot region and Hurricane Names\n",
    "outage_regions = pd.get_dummies(outages[['CLIMATE.REGION', 'HURRICANE.NAMES']], \n",
    "                                prefix=['REGION', 'NAME'])"
   ]
  },
  {
   "cell_type": "code",
   "execution_count": 8,
   "metadata": {},
   "outputs": [
    {
     "data": {
      "text/html": [
       "<div>\n",
       "<style scoped>\n",
       "    .dataframe tbody tr th:only-of-type {\n",
       "        vertical-align: middle;\n",
       "    }\n",
       "\n",
       "    .dataframe tbody tr th {\n",
       "        vertical-align: top;\n",
       "    }\n",
       "\n",
       "    .dataframe thead th {\n",
       "        text-align: right;\n",
       "    }\n",
       "</style>\n",
       "<table border=\"1\" class=\"dataframe\">\n",
       "  <thead>\n",
       "    <tr style=\"text-align: right;\">\n",
       "      <th></th>\n",
       "      <th>CAUSE.CATEGORY</th>\n",
       "      <th>POPULATION</th>\n",
       "      <th>REGION_Central</th>\n",
       "      <th>REGION_East North Central</th>\n",
       "      <th>REGION_Northeast</th>\n",
       "      <th>REGION_Northwest</th>\n",
       "      <th>REGION_South</th>\n",
       "      <th>REGION_Southeast</th>\n",
       "      <th>REGION_Southwest</th>\n",
       "      <th>REGION_West</th>\n",
       "      <th>...</th>\n",
       "      <th>NAME_Isabel</th>\n",
       "      <th>NAME_Ivan</th>\n",
       "      <th>NAME_Jeanne</th>\n",
       "      <th>NAME_Katrina</th>\n",
       "      <th>NAME_Lily</th>\n",
       "      <th>NAME_NO</th>\n",
       "      <th>NAME_Ophelia</th>\n",
       "      <th>NAME_Rita</th>\n",
       "      <th>NAME_Sandy</th>\n",
       "      <th>NAME_Wilma</th>\n",
       "    </tr>\n",
       "  </thead>\n",
       "  <tbody>\n",
       "    <tr>\n",
       "      <th>0</th>\n",
       "      <td>severe weather</td>\n",
       "      <td>5348119.0</td>\n",
       "      <td>0</td>\n",
       "      <td>1</td>\n",
       "      <td>0</td>\n",
       "      <td>0</td>\n",
       "      <td>0</td>\n",
       "      <td>0</td>\n",
       "      <td>0</td>\n",
       "      <td>0</td>\n",
       "      <td>...</td>\n",
       "      <td>0</td>\n",
       "      <td>0</td>\n",
       "      <td>0</td>\n",
       "      <td>0</td>\n",
       "      <td>0</td>\n",
       "      <td>1</td>\n",
       "      <td>0</td>\n",
       "      <td>0</td>\n",
       "      <td>0</td>\n",
       "      <td>0</td>\n",
       "    </tr>\n",
       "    <tr>\n",
       "      <th>1</th>\n",
       "      <td>intentional attack</td>\n",
       "      <td>5457125.0</td>\n",
       "      <td>0</td>\n",
       "      <td>1</td>\n",
       "      <td>0</td>\n",
       "      <td>0</td>\n",
       "      <td>0</td>\n",
       "      <td>0</td>\n",
       "      <td>0</td>\n",
       "      <td>0</td>\n",
       "      <td>...</td>\n",
       "      <td>0</td>\n",
       "      <td>0</td>\n",
       "      <td>0</td>\n",
       "      <td>0</td>\n",
       "      <td>0</td>\n",
       "      <td>1</td>\n",
       "      <td>0</td>\n",
       "      <td>0</td>\n",
       "      <td>0</td>\n",
       "      <td>0</td>\n",
       "    </tr>\n",
       "    <tr>\n",
       "      <th>2</th>\n",
       "      <td>severe weather</td>\n",
       "      <td>5310903.0</td>\n",
       "      <td>0</td>\n",
       "      <td>1</td>\n",
       "      <td>0</td>\n",
       "      <td>0</td>\n",
       "      <td>0</td>\n",
       "      <td>0</td>\n",
       "      <td>0</td>\n",
       "      <td>0</td>\n",
       "      <td>...</td>\n",
       "      <td>0</td>\n",
       "      <td>0</td>\n",
       "      <td>0</td>\n",
       "      <td>0</td>\n",
       "      <td>0</td>\n",
       "      <td>1</td>\n",
       "      <td>0</td>\n",
       "      <td>0</td>\n",
       "      <td>0</td>\n",
       "      <td>0</td>\n",
       "    </tr>\n",
       "    <tr>\n",
       "      <th>3</th>\n",
       "      <td>severe weather</td>\n",
       "      <td>5380443.0</td>\n",
       "      <td>0</td>\n",
       "      <td>1</td>\n",
       "      <td>0</td>\n",
       "      <td>0</td>\n",
       "      <td>0</td>\n",
       "      <td>0</td>\n",
       "      <td>0</td>\n",
       "      <td>0</td>\n",
       "      <td>...</td>\n",
       "      <td>0</td>\n",
       "      <td>0</td>\n",
       "      <td>0</td>\n",
       "      <td>0</td>\n",
       "      <td>0</td>\n",
       "      <td>1</td>\n",
       "      <td>0</td>\n",
       "      <td>0</td>\n",
       "      <td>0</td>\n",
       "      <td>0</td>\n",
       "    </tr>\n",
       "    <tr>\n",
       "      <th>4</th>\n",
       "      <td>severe weather</td>\n",
       "      <td>5489594.0</td>\n",
       "      <td>0</td>\n",
       "      <td>1</td>\n",
       "      <td>0</td>\n",
       "      <td>0</td>\n",
       "      <td>0</td>\n",
       "      <td>0</td>\n",
       "      <td>0</td>\n",
       "      <td>0</td>\n",
       "      <td>...</td>\n",
       "      <td>0</td>\n",
       "      <td>0</td>\n",
       "      <td>0</td>\n",
       "      <td>0</td>\n",
       "      <td>0</td>\n",
       "      <td>1</td>\n",
       "      <td>0</td>\n",
       "      <td>0</td>\n",
       "      <td>0</td>\n",
       "      <td>0</td>\n",
       "    </tr>\n",
       "  </tbody>\n",
       "</table>\n",
       "<p>5 rows × 34 columns</p>\n",
       "</div>"
      ],
      "text/plain": [
       "       CAUSE.CATEGORY  POPULATION  REGION_Central  REGION_East North Central  \\\n",
       "0      severe weather   5348119.0               0                          1   \n",
       "1  intentional attack   5457125.0               0                          1   \n",
       "2      severe weather   5310903.0               0                          1   \n",
       "3      severe weather   5380443.0               0                          1   \n",
       "4      severe weather   5489594.0               0                          1   \n",
       "\n",
       "   REGION_Northeast  REGION_Northwest  REGION_South  REGION_Southeast  \\\n",
       "0                 0                 0             0                 0   \n",
       "1                 0                 0             0                 0   \n",
       "2                 0                 0             0                 0   \n",
       "3                 0                 0             0                 0   \n",
       "4                 0                 0             0                 0   \n",
       "\n",
       "   REGION_Southwest  REGION_West  ...  NAME_Isabel  NAME_Ivan  NAME_Jeanne  \\\n",
       "0                 0            0  ...            0          0            0   \n",
       "1                 0            0  ...            0          0            0   \n",
       "2                 0            0  ...            0          0            0   \n",
       "3                 0            0  ...            0          0            0   \n",
       "4                 0            0  ...            0          0            0   \n",
       "\n",
       "   NAME_Katrina  NAME_Lily  NAME_NO  NAME_Ophelia  NAME_Rita  NAME_Sandy  \\\n",
       "0             0          0        1             0          0           0   \n",
       "1             0          0        1             0          0           0   \n",
       "2             0          0        1             0          0           0   \n",
       "3             0          0        1             0          0           0   \n",
       "4             0          0        1             0          0           0   \n",
       "\n",
       "   NAME_Wilma  \n",
       "0           0  \n",
       "1           0  \n",
       "2           0  \n",
       "3           0  \n",
       "4           0  \n",
       "\n",
       "[5 rows x 34 columns]"
      ]
     },
     "execution_count": 8,
     "metadata": {},
     "output_type": "execute_result"
    }
   ],
   "source": [
    "outages = outages.join(outage_regions).drop(['CLIMATE.REGION', 'HURRICANE.NAMES'], \n",
    "                                            axis=1)\n",
    "outages.head()"
   ]
  },
  {
   "cell_type": "markdown",
   "metadata": {},
   "source": [
    "### Baseline Model"
   ]
  },
  {
   "cell_type": "code",
   "execution_count": 9,
   "metadata": {},
   "outputs": [],
   "source": [
    "X = outages.drop('CAUSE.CATEGORY', axis=1)\n",
    "y = outages['CAUSE.CATEGORY']\n",
    "X_train, X_test, y_train, y_test = train_test_split(X, y, test_size=0.30, random_state=1)"
   ]
  },
  {
   "cell_type": "code",
   "execution_count": 10,
   "metadata": {},
   "outputs": [
    {
     "name": "stdout",
     "output_type": "stream",
     "text": [
      "TRAINING ACCURACY: 0.6913002806361085\n"
     ]
    }
   ],
   "source": [
    "## Train using KNeighbors Classifier\n",
    "base_pl = Pipeline(steps=[('knn', \n",
    "                           KNeighborsClassifier(n_neighbors=7))]) ## n=7 because there are 7 target labels\n",
    "base_pl.fit(X_train, y_train)\n",
    "print('TRAINING ACCURACY: ' + str(base_pl.score(X_train, y_train)))"
   ]
  },
  {
   "cell_type": "code",
   "execution_count": 11,
   "metadata": {},
   "outputs": [
    {
     "name": "stdout",
     "output_type": "stream",
     "text": [
      "TESTING ACCURACY: 0.6056644880174292\n"
     ]
    }
   ],
   "source": [
    "print(\"TESTING ACCURACY: \" + str(base_pl.score(X_test, y_test)))"
   ]
  },
  {
   "cell_type": "markdown",
   "metadata": {},
   "source": [
    "### Final Model"
   ]
  },
  {
   "cell_type": "code",
   "execution_count": 12,
   "metadata": {},
   "outputs": [],
   "source": [
    "outages_final = pd.read_excel('outage.xlsx', index_col=1, skiprows=5, comment='#')\n",
    "outages_final = outages_final.drop(columns=['variables']).iloc[1:].reset_index(drop=True)\n",
    "outages_final = outages_final[['CAUSE.CATEGORY', 'CLIMATE.REGION', 'POPULATION',\n",
    "                   'ANOMALY.LEVEL','HURRICANE.NAMES'\n",
    "                  ]]\n",
    "outages_final['HURRICANE.NAMES'] = outages_final['HURRICANE.NAMES'].replace({np.NaN: 'NO'})\n",
    "outages_final = outages_final.dropna() "
   ]
  },
  {
   "cell_type": "markdown",
   "metadata": {},
   "source": [
    "#### Feature Engineering and cleaning for final model"
   ]
  },
  {
   "cell_type": "code",
   "execution_count": 13,
   "metadata": {},
   "outputs": [],
   "source": [
    "outages_final['HURRICANE.NAMES'] = outages_final['HURRICANE.NAMES'].apply(lambda x: 'NO' if x == 'NO' else 'YES')"
   ]
  },
  {
   "cell_type": "code",
   "execution_count": 14,
   "metadata": {},
   "outputs": [],
   "source": [
    "outage_reg = pd.get_dummies(outages_final['CLIMATE.REGION'], prefix='REGION')\n",
    "outages_final = outages_final.join(outage_reg).drop('CLIMATE.REGION', axis=1)"
   ]
  },
  {
   "cell_type": "code",
   "execution_count": 15,
   "metadata": {},
   "outputs": [
    {
     "data": {
      "text/html": [
       "<div>\n",
       "<style scoped>\n",
       "    .dataframe tbody tr th:only-of-type {\n",
       "        vertical-align: middle;\n",
       "    }\n",
       "\n",
       "    .dataframe tbody tr th {\n",
       "        vertical-align: top;\n",
       "    }\n",
       "\n",
       "    .dataframe thead th {\n",
       "        text-align: right;\n",
       "    }\n",
       "</style>\n",
       "<table border=\"1\" class=\"dataframe\">\n",
       "  <thead>\n",
       "    <tr style=\"text-align: right;\">\n",
       "      <th></th>\n",
       "      <th>CAUSE.CATEGORY</th>\n",
       "      <th>POPULATION</th>\n",
       "      <th>ANOMALY.LEVEL</th>\n",
       "      <th>HURRICANE.NAMES</th>\n",
       "      <th>REGION_Central</th>\n",
       "      <th>REGION_East North Central</th>\n",
       "      <th>REGION_Northeast</th>\n",
       "      <th>REGION_Northwest</th>\n",
       "      <th>REGION_South</th>\n",
       "      <th>REGION_Southeast</th>\n",
       "      <th>REGION_Southwest</th>\n",
       "      <th>REGION_West</th>\n",
       "      <th>REGION_West North Central</th>\n",
       "    </tr>\n",
       "  </thead>\n",
       "  <tbody>\n",
       "    <tr>\n",
       "      <th>0</th>\n",
       "      <td>severe weather</td>\n",
       "      <td>5348119.0</td>\n",
       "      <td>-0.3</td>\n",
       "      <td>NO</td>\n",
       "      <td>0</td>\n",
       "      <td>1</td>\n",
       "      <td>0</td>\n",
       "      <td>0</td>\n",
       "      <td>0</td>\n",
       "      <td>0</td>\n",
       "      <td>0</td>\n",
       "      <td>0</td>\n",
       "      <td>0</td>\n",
       "    </tr>\n",
       "    <tr>\n",
       "      <th>1</th>\n",
       "      <td>intentional attack</td>\n",
       "      <td>5457125.0</td>\n",
       "      <td>-0.1</td>\n",
       "      <td>NO</td>\n",
       "      <td>0</td>\n",
       "      <td>1</td>\n",
       "      <td>0</td>\n",
       "      <td>0</td>\n",
       "      <td>0</td>\n",
       "      <td>0</td>\n",
       "      <td>0</td>\n",
       "      <td>0</td>\n",
       "      <td>0</td>\n",
       "    </tr>\n",
       "    <tr>\n",
       "      <th>2</th>\n",
       "      <td>severe weather</td>\n",
       "      <td>5310903.0</td>\n",
       "      <td>-1.5</td>\n",
       "      <td>NO</td>\n",
       "      <td>0</td>\n",
       "      <td>1</td>\n",
       "      <td>0</td>\n",
       "      <td>0</td>\n",
       "      <td>0</td>\n",
       "      <td>0</td>\n",
       "      <td>0</td>\n",
       "      <td>0</td>\n",
       "      <td>0</td>\n",
       "    </tr>\n",
       "    <tr>\n",
       "      <th>3</th>\n",
       "      <td>severe weather</td>\n",
       "      <td>5380443.0</td>\n",
       "      <td>-0.1</td>\n",
       "      <td>NO</td>\n",
       "      <td>0</td>\n",
       "      <td>1</td>\n",
       "      <td>0</td>\n",
       "      <td>0</td>\n",
       "      <td>0</td>\n",
       "      <td>0</td>\n",
       "      <td>0</td>\n",
       "      <td>0</td>\n",
       "      <td>0</td>\n",
       "    </tr>\n",
       "    <tr>\n",
       "      <th>4</th>\n",
       "      <td>severe weather</td>\n",
       "      <td>5489594.0</td>\n",
       "      <td>1.2</td>\n",
       "      <td>NO</td>\n",
       "      <td>0</td>\n",
       "      <td>1</td>\n",
       "      <td>0</td>\n",
       "      <td>0</td>\n",
       "      <td>0</td>\n",
       "      <td>0</td>\n",
       "      <td>0</td>\n",
       "      <td>0</td>\n",
       "      <td>0</td>\n",
       "    </tr>\n",
       "  </tbody>\n",
       "</table>\n",
       "</div>"
      ],
      "text/plain": [
       "       CAUSE.CATEGORY  POPULATION ANOMALY.LEVEL HURRICANE.NAMES  \\\n",
       "0      severe weather   5348119.0          -0.3              NO   \n",
       "1  intentional attack   5457125.0          -0.1              NO   \n",
       "2      severe weather   5310903.0          -1.5              NO   \n",
       "3      severe weather   5380443.0          -0.1              NO   \n",
       "4      severe weather   5489594.0           1.2              NO   \n",
       "\n",
       "   REGION_Central  REGION_East North Central  REGION_Northeast  \\\n",
       "0               0                          1                 0   \n",
       "1               0                          1                 0   \n",
       "2               0                          1                 0   \n",
       "3               0                          1                 0   \n",
       "4               0                          1                 0   \n",
       "\n",
       "   REGION_Northwest  REGION_South  REGION_Southeast  REGION_Southwest  \\\n",
       "0                 0             0                 0                 0   \n",
       "1                 0             0                 0                 0   \n",
       "2                 0             0                 0                 0   \n",
       "3                 0             0                 0                 0   \n",
       "4                 0             0                 0                 0   \n",
       "\n",
       "   REGION_West  REGION_West North Central  \n",
       "0            0                          0  \n",
       "1            0                          0  \n",
       "2            0                          0  \n",
       "3            0                          0  \n",
       "4            0                          0  "
      ]
     },
     "execution_count": 15,
     "metadata": {},
     "output_type": "execute_result"
    }
   ],
   "source": [
    "outages_final.head()"
   ]
  },
  {
   "cell_type": "code",
   "execution_count": 16,
   "metadata": {},
   "outputs": [],
   "source": [
    "X = outages_final.drop('CAUSE.CATEGORY', axis=1)\n",
    "y = outages_final['CAUSE.CATEGORY']\n",
    "X_train, X_test, y_train, y_test = train_test_split(X, y, test_size=0.30, random_state=1)"
   ]
  },
  {
   "cell_type": "code",
   "execution_count": 17,
   "metadata": {},
   "outputs": [
    {
     "name": "stdout",
     "output_type": "stream",
     "text": [
      "TRAINING ACCURACY: 0.8890977443609023\n"
     ]
    }
   ],
   "source": [
    "ct = ColumnTransformer([\n",
    "    ('POP_std', StandardScaler(), ['POPULATION']),\n",
    "    ('HURR_bin', OneHotEncoder(), ['HURRICANE.NAMES'])\n",
    "], remainder='passthrough')\n",
    "\n",
    "final_pl = Pipeline(steps=[\n",
    "    ('preprocess', ct),\n",
    "    ('dt', DecisionTreeClassifier())\n",
    "])\n",
    "\n",
    "params = {\n",
    "    'dt__max_depth': [5,10,15,20,30,40,50,100]\n",
    "}\n",
    "\n",
    "searchCV = GridSearchCV(final_pl, params, cv=10)\n",
    "searchCV.fit(X_train, y_train)\n",
    "print('TRAINING ACCURACY: '+ str(searchCV.score(X_train, y_train)))"
   ]
  },
  {
   "cell_type": "code",
   "execution_count": 18,
   "metadata": {},
   "outputs": [
    {
     "name": "stdout",
     "output_type": "stream",
     "text": [
      "TESTING ACCURACY: 0.6469298245614035\n"
     ]
    }
   ],
   "source": [
    "print('TESTING ACCURACY: ' + str(searchCV.score(X_test, y_test)))"
   ]
  },
  {
   "cell_type": "code",
   "execution_count": 19,
   "metadata": {},
   "outputs": [
    {
     "data": {
      "text/plain": [
       "{'dt__max_depth': 15}"
      ]
     },
     "execution_count": 19,
     "metadata": {},
     "output_type": "execute_result"
    }
   ],
   "source": [
    "## Best param(s) for Decision Tree\n",
    "searchCV.best_params_"
   ]
  },
  {
   "cell_type": "markdown",
   "metadata": {},
   "source": [
    "### Fairness Evaluation"
   ]
  },
  {
   "cell_type": "code",
   "execution_count": 20,
   "metadata": {},
   "outputs": [],
   "source": [
    "preds = searchCV.predict(X_test)"
   ]
  },
  {
   "cell_type": "code",
   "execution_count": 21,
   "metadata": {},
   "outputs": [
    {
     "data": {
      "text/plain": [
       "array([[0.37, 0.05, 0.03, 0.01, 0.01, 0.  , 0.  ],\n",
       "       [0.05, 0.21, 0.01, 0.  , 0.  , 0.01, 0.  ],\n",
       "       [0.02, 0.02, 0.03, 0.01, 0.01, 0.  , 0.  ],\n",
       "       [0.01, 0.  , 0.01, 0.01, 0.  , 0.  , 0.  ],\n",
       "       [0.01, 0.  , 0.  , 0.  , 0.02, 0.  , 0.  ],\n",
       "       [0.02, 0.01, 0.  , 0.  , 0.  , 0.  , 0.01],\n",
       "       [0.  , 0.01, 0.  , 0.01, 0.  , 0.  , 0.  ]])"
      ]
     },
     "execution_count": 21,
     "metadata": {},
     "output_type": "execute_result"
    }
   ],
   "source": [
    "## Confusion Matrix\n",
    "np.round(metrics.confusion_matrix(y_test, preds, labels=outages_final['CAUSE.CATEGORY'].unique()) / len(preds), 2)"
   ]
  },
  {
   "cell_type": "markdown",
   "metadata": {},
   "source": [
    "#### Parity Measure"
   ]
  },
  {
   "cell_type": "markdown",
   "metadata": {},
   "source": [
    "##### NULL:\n",
    "##### H0: My model is fair, the accuracy for my two subsets are about the same.\n",
    "\n",
    "##### ALT:\n",
    "##### H1: My model is unfair; the accuracy for BLANK is higher than the BLANK."
   ]
  },
  {
   "cell_type": "code",
   "execution_count": 22,
   "metadata": {},
   "outputs": [],
   "source": [
    "results = X_test\n",
    "results['predictions'] = preds\n",
    "results['tag'] = y_test\n",
    "results['is_hurricane'] = results['HURRICANE.NAMES']"
   ]
  },
  {
   "cell_type": "markdown",
   "metadata": {},
   "source": [
    "##### VIsuallizing accuracy per hurricane subset"
   ]
  },
  {
   "cell_type": "code",
   "execution_count": 23,
   "metadata": {},
   "outputs": [
    {
     "data": {
      "text/plain": [
       "<matplotlib.axes._subplots.AxesSubplot at 0x175033eee10>"
      ]
     },
     "execution_count": 23,
     "metadata": {},
     "output_type": "execute_result"
    },
    {
     "data": {
      "image/png": "[encoded data removed]",
      "text/plain": [
       "<matplotlib.figure.Figure at 0x175033ee710>"
      ]
     },
     "metadata": {
      "needs_background": "light"
     },
     "output_type": "display_data"
    }
   ],
   "source": [
    "ac = metrics.accuracy_score(y_test, preds)\n",
    "(\n",
    "    results\n",
    "    .groupby('is_hurricane')\n",
    "    .apply(lambda x: metrics.accuracy_score(x.tag, x.predictions))\n",
    "    .plot(kind='bar')\n",
    ")"
   ]
  },
  {
   "cell_type": "markdown",
   "metadata": {},
   "source": [
    "Here outages that occured due to hurricane were predicted with an accuracy of 1.0 while those that occured not from a hurricane were predicted with an accuracy of 0.63."
   ]
  },
  {
   "cell_type": "code",
   "execution_count": 24,
   "metadata": {},
   "outputs": [
    {
     "data": {
      "text/plain": [
       "is_hurricane\n",
       "NO     0.633257\n",
       "YES    1.000000\n",
       "dtype: float64"
      ]
     },
     "execution_count": 24,
     "metadata": {},
     "output_type": "execute_result"
    }
   ],
   "source": [
    "results.groupby('is_hurricane').apply(lambda x: metrics.accuracy_score(x.tag, x.predictions))"
   ]
  },
  {
   "cell_type": "markdown",
   "metadata": {},
   "source": [
    "##### Permutation Test"
   ]
  },
  {
   "cell_type": "code",
   "execution_count": 25,
   "metadata": {},
   "outputs": [
    {
     "name": "stdout",
     "output_type": "stream",
     "text": [
      "OBSERVED VALUE: 0.3667425968109339\n"
     ]
    }
   ],
   "source": [
    "obs = results.groupby('is_hurricane').apply(lambda x: metrics.accuracy_score(x.tag, x.predictions)).diff().abs().iloc[-1]\n",
    "\n",
    "mets = []\n",
    "\n",
    "for _ in range(1000):\n",
    "    s = (\n",
    "        results[['is_hurricane', 'predictions', 'tag']]\n",
    "        .assign(is_hurricane=results.is_hurricane.sample(frac=1.0, replace=False).reset_index(drop=True))\n",
    "        .groupby('is_hurricane')\n",
    "        .apply(lambda x: metrics.accuracy_score(x.tag, x.predictions))\n",
    "        .diff().abs()\n",
    "        .iloc[-1]\n",
    "    )\n",
    "    mets.append(s)\n",
    "print('OBSERVED VALUE: ' + str(obs))"
   ]
  },
  {
   "cell_type": "code",
   "execution_count": 26,
   "metadata": {},
   "outputs": [
    {
     "name": "stdout",
     "output_type": "stream",
     "text": [
      "0.05\n"
     ]
    },
    {
     "data": {
      "text/plain": [
       "<matplotlib.collections.PathCollection at 0x17503020be0>"
      ]
     },
     "execution_count": 26,
     "metadata": {},
     "output_type": "execute_result"
    },
    {
     "data": {
      "image/png": "[encoded data removed]",
      "text/plain": [
       "<matplotlib.figure.Figure at 0x175031c82e8>"
      ]
     },
     "metadata": {
      "needs_background": "light"
     },
     "output_type": "display_data"
    }
   ],
   "source": [
    "print(pd.Series(mets>=obs).mean())\n",
    "pd.Series(mets).plot(kind='hist', bins = 10, \n",
    "                     title='Permutation test for outages across areas affected/not affected by hurricanes')\n",
    "plt.scatter(obs, 0.1, c='r')"
   ]
  },
  {
   "cell_type": "markdown",
   "metadata": {},
   "source": [
    "Reject null hypothesis; No accuracy parity."
   ]
  },
  {
   "cell_type": "code",
   "execution_count": null,
   "metadata": {},
   "outputs": [],
   "source": []
  },
  {
   "cell_type": "code",
   "execution_count": null,
   "metadata": {},
   "outputs": [],
   "source": []
  },
  {
   "cell_type": "code",
   "execution_count": null,
   "metadata": {},
   "outputs": [],
   "source": []
  }
 ],
 "metadata": {
  "kernelspec": {
   "display_name": "Python 3",
   "language": "python",
   "name": "python3"
  },
  "language_info": {
   "codemirror_mode": {
    "name": "ipython",
    "version": 3
   },
   "file_extension": ".py",
   "mimetype": "text/x-python",
   "name": "python",
   "nbconvert_exporter": "python",
   "pygments_lexer": "ipython3",
   "version": "3.6.12"
  }
 },
 "nbformat": 4,
 "nbformat_minor": 2
}
